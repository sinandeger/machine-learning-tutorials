{
 "cells": [
  {
   "cell_type": "markdown",
   "metadata": {},
   "source": [
    "# Morphology Classification using a Random Forest Classifier\n",
    "\n",
    "Tutorial 1b -- AAS 237 Hands-on Machine Learning for Astronomers Workshop, January 7&8, 2021\n",
    "\n",
    "This notebook contains the random forest classifier we use to perform a morphological classification of a subset of CANDELS GOODS-S galaxies. Kartaltepe et al. (2015, https://ui.adsabs.harvard.edu/abs/2015ApJS..221...11K/abstract) describes the sample, and the visual classification scheme employed on the parent sample in detail. We make use of this parent sample to derive a subset mainly consisting of two morphology types, spheroids and disks, selected via the following prescription:\n",
    "\n",
    "if ['f_Dk_'] > 0.90 & ['f_Sph_'] < 0.30 --> Morphology = Disk, class_label = 1\n",
    "\n",
    "if ['f_Sph_'] > 0.90 & ['f_Dk_'] < 0.30 --> Morphology = Spheroid, class_label = 0\n",
    "\n",
    "where f_Dk_ and f_Sph_ is the fraction of classifiers that designated that a given galaxy has a disk or spheroid morphology, respectively. The goal of this tutorial is to determine whether a convolutional neural network model could be capable of performing high accuracy classification of these two classes. Note that the data selection from the CANDELS catalog has already been performed, and in this notebook we only read in pickle files that contain this subset.\n",
    "\n",
    "Note: Please also see the presentation accompanying this notebook for some extra details.\n",
    "\n",
    "Author & Contact: Sinan Deger, sdeger@caltech.edu\n"
   ]
  },
  {
   "cell_type": "code",
   "execution_count": 1,
   "metadata": {},
   "outputs": [],
   "source": [
    "import os\n",
    "import sys\n",
    "from time import clock\n",
    "from os import path\n",
    "\"\"\"Import the basics; numpy, pandas, matplotlib et al.\"\"\"\n",
    "import pandas as pd\n",
    "import numpy as np\n",
    "import matplotlib.pyplot as plt\n",
    "\"\"\"Import scikit learn tools\"\"\"\n",
    "from sklearn.metrics import confusion_matrix, accuracy_score\n",
    "from sklearn.model_selection import StratifiedKFold, StratifiedShuffleSplit\n",
    "from sklearn.ensemble import RandomForestClassifier"
   ]
  },
  {
   "cell_type": "markdown",
   "metadata": {},
   "source": [
    "First, we read the catalog that contains the morphology parameters of our sample. We used the Astropy affiliated package _statmorph_ (https://statmorph.readthedocs.io/en/latest/) detailed in Rodriguez-Gomez et al. (2019, https://ui.adsabs.harvard.edu/abs/2019MNRAS.483.4140R) to extract the following features of the galaxies in our sample (definitions from the _statmorph_ API Reference):\n",
    "\n",
    "\n",
    "concentration\n",
    "\n",
    "    Calculate concentration as described in Lotz et al. (2004).\n",
    "    \n",
    "    \n",
    "asymmetry\n",
    "\n",
    "    Calculate asymmetry as described in Lotz et al. (2004).\n",
    "\n",
    "\n",
    "smoothness\n",
    "\n",
    "    Calculate smoothness (a.k.a. clumpiness) as defined in eq. (11) from Lotz et al. (2004). Note that the original definition by Conselice (2003) includes an additional factor of 10.\n",
    "\n",
    "\n",
    "r20\n",
    "\n",
    "    The radius that contains 20% of the light within ‘petro_extent_cas’ (usually 1.5) times ‘rpetro_circ’.\n",
    "    \n",
    "\n",
    "r80\n",
    "\n",
    "    The radius that contains 80% of the light within ‘petro_extent_cas’ (usually 1.5) times ‘rpetro_circ’.\n",
    "\n",
    "\n",
    "rhalf_circ\n",
    "\n",
    "    The radius of a circular aperture containing 50% of the light, assuming that the center is the point that minimizes the asymmetry and that the total is at rmax_circ.\n",
    "\n",
    "\n",
    "rhalf_ellip\n",
    "\n",
    "    The semimajor axis of an elliptical aperture containing 50% of the light, assuming that the center is the point that minimizes the asymmetry and that the total is at rmax_ellip.\n",
    "\n",
    "\n",
    "sersic_n\n",
    "\n",
    "    The Sersic index n (astropy.modeling.models.Sersic2D).\n",
    "   \n",
    "\n"
   ]
  },
  {
   "cell_type": "code",
   "execution_count": 2,
   "metadata": {},
   "outputs": [
    {
     "name": "stdout",
     "output_type": "stream",
     "text": [
      "Length of the initial catalog: 2119\n",
      "Length after sersic_flag == 0 selection made: 1775\n",
      "Number of galaxies with early type morphology: 353\n",
      "Number of galaxies with late type morphology: 1422\n"
     ]
    }
   ],
   "source": [
    "\"\"\"Read the morphology and the partial CANDELS GOODS-S merged catalog\"\"\"\n",
    "morph_df_base = pd.read_csv('../data/AAS237_morphology_catalog.csv')\n",
    "\"\"\"Select only the galaxies for which statmorph does not raise a flag for the Sersic fit\"\"\"\n",
    "morph_df = morph_df_base.loc[morph_df_base['sersic_flag'] == 0].copy()\n",
    "\n",
    "print('Length of the initial catalog:', morph_df_base.shape[0])\n",
    "print('Length after sersic_flag == 0 selection made:', morph_df.shape[0])\n",
    "\n",
    "\"\"\"\n",
    "Reminder:\n",
    "###################################################################################\n",
    "Descriptions of our classes:\n",
    "\n",
    "if ['f_Dk_'] > 0.90 & ['f_Sph_'] < 0.30 --> Morphology = Disk, class_label = 1\n",
    "\n",
    "if ['f_Sph_'] > 0.90 & ['f_Dk_'] < 0.30 --> Morphology = Spheroid, class_label = 0\n",
    "###################################################################################\n",
    "\"\"\"\n",
    "\n",
    "\"\"\"Number of galaxies in each morphology class\"\"\"\n",
    "print('Number of galaxies with early type morphology:', morph_df.loc[morph_df['morphology'] == 0].shape[0])\n",
    "print('Number of galaxies with late type morphology:', morph_df.loc[morph_df['morphology'] == 1].shape[0])\n",
    "\n"
   ]
  },
  {
   "cell_type": "code",
   "execution_count": 3,
   "metadata": {},
   "outputs": [
    {
     "name": "stdout",
     "output_type": "stream",
     "text": [
      "Number of objects classified as spheroid in the training sample:  300\n",
      "Number of objects classified as disk in the training sample:  1208\n"
     ]
    }
   ],
   "source": [
    "\"Next, we select the columns we would like to use for the fitting procedure\"\n",
    "feature_columns = ['C', 'A', 'S', 'r20', 'r80', 'sersic_index', 'rhalf_circ', 'rhalf_ellip']\n",
    "full_rfc_df = morph_df.dropna().copy()\n",
    "\n",
    "X_df = full_rfc_df[feature_columns].copy()\n",
    "X = X_df.values\n",
    "\"\"\"X: numpy array containing the values from the feature list for the morphology sample\"\"\"\n",
    "y_df = full_rfc_df['morphology'].copy()\n",
    "y = y_df.values\n",
    "\"\"\"Y: numpy array containing the morphology labels of the morphology sample\"\"\"\n",
    "\n",
    "\"\"\"\n",
    "Similar to Tutorial 1a, we use stratification to split the data into training & test samples.\n",
    "This preserves the ratio of class 0 to class 1 objects when we split the\n",
    "total sample into training and test samples.\n",
    "\n",
    "\"\"\"\n",
    "skf = StratifiedShuffleSplit(n_splits=2, test_size=0.15, random_state=42)\n",
    "skf.get_n_splits(X, y)\n",
    "\n",
    "for train_index, test_index in skf.split(X, y):\n",
    "    X_train, X_test = X[train_index], X[test_index]\n",
    "    y_train, y_test = y[train_index], y[test_index]\n",
    "    \n",
    "print('Number of objects classified as spheroid in the training sample: ',\n",
    "      len(np.unique(np.where(y_train == 0)[0])))\n",
    "\n",
    "print('Number of objects classified as disk in the training sample: ',\n",
    "      len(np.unique(np.where(y_train == 1)[0])))\n",
    "    "
   ]
  },
  {
   "cell_type": "markdown",
   "metadata": {},
   "source": [
    "Having selected our training and test samples, we now proceed with our decision tree based classification scheme. To this effect, we use the RandomForestClassifier module within scikit learn, called below. Note that the majority of the parameters in this function call has been left at their default values. We display these here for visualization purposes.  "
   ]
  },
  {
   "cell_type": "code",
   "execution_count": 4,
   "metadata": {},
   "outputs": [
    {
     "name": "stdout",
     "output_type": "stream",
     "text": [
      "Feature ranking:\n",
      "1. feature r20 (0.239891)\n",
      "2. feature rhalf_ellip (0.206148)\n",
      "3. feature r80 (0.139508)\n",
      "4. feature sersic_index (0.122152)\n",
      "5. feature C (0.116845)\n",
      "6. feature rhalf_circ (0.089820)\n",
      "7. feature S (0.043308)\n",
      "8. feature A (0.042327)\n"
     ]
    },
    {
     "data": {
      "image/png": "[encoded data removed]",
      "text/plain": [
       "<Figure size 432x288 with 1 Axes>"
      ]
     },
     "metadata": {
      "needs_background": "light"
     },
     "output_type": "display_data"
    }
   ],
   "source": [
    "clf = RandomForestClassifier(n_estimators=100, criterion='gini', max_depth=None,\n",
    "                             min_samples_split=2, min_samples_leaf=1, min_weight_fraction_leaf=0.0,\n",
    "                             max_features='auto', max_leaf_nodes=None, min_impurity_decrease=0.0,\n",
    "                             min_impurity_split=None, bootstrap=True, oob_score=False, n_jobs=None,\n",
    "                             random_state=42, verbose=0, warm_start=False, class_weight=None)\n",
    "\n",
    "\n",
    "clf.fit(X_train, y_train)\n",
    "\n",
    "\"\"\"We plot the feature importance chart of the random forest classifier here\"\"\"\n",
    "\n",
    "importances = clf.feature_importances_\n",
    "indices = np.argsort(importances)[::-1]\n",
    "\n",
    "\"\"\"Print the rankings of our features, showing how important they were for the fitting\"\"\"\n",
    "print(\"Feature ranking:\")\n",
    "\n",
    "for f in range(X_train.shape[1]):\n",
    "    print(\"%d. feature %s (%f)\" % (f + 1, feature_columns[indices[f]], importances[indices[f]]))\n",
    "\n",
    "\"\"\"Finally, we visualize these rankings in the figure showing impurity-based feature importances of the forest\"\"\"\n",
    "plt.figure()\n",
    "plt.title(\"Feature Importances\")\n",
    "pd.Series(clf.feature_importances_, index=X_df.columns).sort_values().plot(kind='barh', color=\"#475f94\").invert_yaxis()\n",
    "plt.show()"
   ]
  },
  {
   "cell_type": "code",
   "execution_count": 5,
   "metadata": {},
   "outputs": [
    {
     "name": "stdout",
     "output_type": "stream",
     "text": [
      "Fraction of correct predictions with scikit-learn random forest classifier:  0.95\n"
     ]
    }
   ],
   "source": [
    "\"\"\"We finalize this tutorial by having our trained classifier predict the morphology class of our test sample\"\"\"\n",
    "\n",
    "print('Fraction of correct predictions with scikit-learn random forest classifier: ',\n",
    "      round(accuracy_score(clf.predict(X_test), y_test), 2))"
   ]
  },
  {
   "cell_type": "code",
   "execution_count": null,
   "metadata": {},
   "outputs": [],
   "source": []
  }
 ],
 "metadata": {
  "kernelspec": {
   "display_name": "Python 3",
   "language": "python",
   "name": "python3"
  },
  "language_info": {
   "codemirror_mode": {
    "name": "ipython",
    "version": 3
   },
   "file_extension": ".py",
   "mimetype": "text/x-python",
   "name": "python",
   "nbconvert_exporter": "python",
   "pygments_lexer": "ipython3",
   "version": "3.7.4"
  }
 },
 "nbformat": 4,
 "nbformat_minor": 2
}
